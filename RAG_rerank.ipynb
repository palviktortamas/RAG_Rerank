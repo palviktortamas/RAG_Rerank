{
  "nbformat": 4,
  "nbformat_minor": 0,
  "metadata": {
    "colab": {
      "provenance": [],
      "gpuType": "T4"
    },
    "kernelspec": {
      "name": "python3",
      "display_name": "Python 3"
    },
    "language_info": {
      "name": "python"
    },
    "accelerator": "GPU"
  },
  "cells": [
    {
      "cell_type": "markdown",
      "source": [
        "# RAG"
      ],
      "metadata": {
        "id": "3bBVN_dzWcrr"
      }
    },
    {
      "cell_type": "markdown",
      "source": [
        "# Installing requirements"
      ],
      "metadata": {
        "id": "3yzrYPsRWjDZ"
      }
    },
    {
      "cell_type": "code",
      "source": [
        "!pip install datasets --quiet\n",
        "!pip install torch  transformers accelerate bitsandbytes pypdf chromadb sentence-transformers pydantic --quiet\n",
        "!pip install llama-index llama-index-embeddings-huggingface llama-index-llms-huggingface llama-index-readers-file llama-index-vector-stores-chroma llama-index-llms-anthropic --quiet\n",
        "!pip install rouge-score"
      ],
      "metadata": {
        "id": "ggiv6JNaWm0l"
      },
      "execution_count": null,
      "outputs": []
    },
    {
      "cell_type": "markdown",
      "source": [
        "# Loading Dataset\n",
        "\n",
        "Wikipédia szedetet fogok használni datasetnek, de annak a szimplifikált változatát a gyorsabb futás érdekében."
      ],
      "metadata": {
        "id": "UuYxtBjvWwwr"
      }
    },
    {
      "cell_type": "code",
      "execution_count": null,
      "metadata": {
        "id": "ZbtBrXXdA7tj"
      },
      "outputs": [],
      "source": [
        "from datasets import load_dataset\n",
        "dataset =load_dataset(\"wikipedia\", \"20220301.simple\",trust_remote_code=True)"
      ]
    },
    {
      "cell_type": "markdown",
      "source": [
        "# SET up model"
      ],
      "metadata": {
        "id": "eNDtglJ2Yk-q"
      }
    },
    {
      "cell_type": "code",
      "source": [
        "from transformers import AutoTokenizer, AutoModelForCausalLM\n",
        "\n",
        "import torch\n",
        "import sys\n",
        "import chromadb\n",
        "from llama_index.core import VectorStoreIndex, download_loader, ServiceContext, Settings\n",
        "from llama_index.vector_stores.chroma import ChromaVectorStore\n",
        "from llama_index.core.storage.storage_context import StorageContext\n",
        "from llama_index.embeddings.huggingface import HuggingFaceEmbedding\n",
        "from transformers import BitsAndBytesConfig\n",
        "from transformers import AutoModelForCausalLM, AutoTokenizer, StoppingCriteria, StoppingCriteriaList\n",
        "from llama_index.core import PromptTemplate\n",
        "from llama_index.llms.huggingface import HuggingFaceLLM\n",
        "from pathlib import Path\n",
        "import os\n",
        "from transformers import AutoTokenizer, AutoModelForSeq2SeqLM\n",
        "from llama_index.core.postprocessor.llm_rerank import LLMRerank\n",
        "from llama_index.core.workflow import (\n",
        "    Context,\n",
        "    Workflow,\n",
        "    StartEvent,\n",
        "    StopEvent,\n",
        "    step,\n",
        ")\n",
        "from llama_index.core.response.pprint_utils import pprint_response\n",
        "from llama_index.core.postprocessor import SentenceTransformerRerank"
      ],
      "metadata": {
        "id": "YqGOxLOpi0Nx"
      },
      "execution_count": null,
      "outputs": []
    },
    {
      "cell_type": "markdown",
      "source": [
        "Itt létrehozom a modelt (A zephyr 7b beta modellt választottam).\n",
        "Használok quantifikációt, hogy könnyebben fusson a colab gépen.\n",
        "Ezenkívül a paramétereket olyanra állítottam, hogy pontosabb, fókuszált válaszokat adjon."
      ],
      "metadata": {
        "id": "8sFBM241b4nC"
      }
    },
    {
      "cell_type": "code",
      "source": [
        "import torch\n",
        "from transformers import BitsAndBytesConfig\n",
        "from llama_index.core.prompts import PromptTemplate\n",
        "from llama_index.llms.huggingface import HuggingFaceLLM\n",
        "\n",
        "quantization_config = BitsAndBytesConfig(\n",
        "    load_in_4bit=True,\n",
        "    bnb_4bit_compute_dtype=torch.float16,\n",
        "    bnb_4bit_quant_type=\"nf4\",\n",
        "    bnb_4bit_use_double_quant=True,\n",
        ")\n",
        "\n",
        "\n",
        "llm = HuggingFaceLLM(\n",
        "    model_name=\"HuggingFaceH4/zephyr-7b-beta\",\n",
        "    tokenizer_name=\"HuggingFaceH4/zephyr-7b-beta\",\n",
        "    query_wrapper_prompt=PromptTemplate(\"<|system|>\\n</s>\\n<|user|>\\n{query_str}</s>\\n<|assistant|>\\n\"),\n",
        "    context_window=3900,\n",
        "    max_new_tokens=256,\n",
        "    model_kwargs={\"quantization_config\": quantization_config},\n",
        "    # tokenizer_kwargs={},\n",
        "    generate_kwargs={\"temperature\": 0.5, \"top_k\": 25, \"top_p\": 0.8, \"do_sample\": True, \"pad_token_id\": None},\n",
        "\n",
        "    device_map=\"auto\",\n",
        ")\n",
        "\n"
      ],
      "metadata": {
        "id": "dpXO1H_-ALkA"
      },
      "execution_count": null,
      "outputs": []
    },
    {
      "cell_type": "markdown",
      "source": [
        "Beállítom az embedding modellt és a változókat."
      ],
      "metadata": {
        "id": "ljd8oa-mc1as"
      }
    },
    {
      "cell_type": "code",
      "source": [
        "from llama_index.core import Settings\n",
        "from llama_index.embeddings.huggingface import HuggingFaceEmbedding\n",
        "\n",
        "Settings.llm = llm\n",
        "Settings.embed_model = HuggingFaceEmbedding(model_name=\"BAAI/bge-small-en-v1.5\")\n",
        "Settings.chunk_size = 1024\n",
        "Settings.chunk_overlap = 50"
      ],
      "metadata": {
        "id": "jH0G7nKf1lU7"
      },
      "execution_count": null,
      "outputs": []
    },
    {
      "cell_type": "markdown",
      "source": [
        "Így válaszol a LLM RAG nélkül."
      ],
      "metadata": {
        "id": "24xFxwJ1dJLk"
      }
    },
    {
      "cell_type": "code",
      "source": [
        "print(llm.complete(\"What happened on 20 of April?\").text)"
      ],
      "metadata": {
        "colab": {
          "base_uri": "https://localhost:8080/"
        },
        "id": "jBdjjlZZ2FAE",
        "outputId": "63fde992-507a-4d8d-f9f3-3fd4bdd6f0b3"
      },
      "execution_count": 40,
      "outputs": [
        {
          "output_type": "stream",
          "name": "stderr",
          "text": [
            "Setting `pad_token_id` to `eos_token_id`:None for open-end generation.\n"
          ]
        },
        {
          "output_type": "stream",
          "name": "stdout",
          "text": [
            "Here are some significant events that occurred on April 20:\n",
            "\n",
            "1. 1864: President Abraham Lincoln was re-nominated for a second term by the National Union Party.\n",
            "\n",
            "2. 1912: The RMS Titanic, considered one of the most famous ships in history, hit an iceberg and sank in the North Atlantic Ocean, killing over 1,500 people.\n",
            "\n",
            "3. 1936: The Spanish Civil War began when a group of military officers rebelled against the democratically elected government.\n",
            "\n",
            "4. 1961: Yuri Gagarin became the first human to journey into outer space as he orbited the Earth aboard the Vostok 1 spacecraft.\n",
            "\n",
            "5. 1968: The My Lai Massacre occurred during the Vietnam War when U.S. Soldiers killed hundreds of unarmed civilians in South Vietnam.\n",
            "\n",
            "6. 1986: The Chernobyl disaster occurred when a nuclear reactor in Ukraine exploded, releasing radioactive material into the environment and causing widespread health and environmental issues.\n",
            "\n",
            "7. 1999: NATO began a bombing\n"
          ]
        }
      ]
    },
    {
      "cell_type": "markdown",
      "source": [
        "# Dataset feldolgozása\n",
        "Az adatokat átalakítom Document formára, és utána elmentjük a vectorstoreindexbe őket. (A folyamat közben fel lesznek darabolva, és beágyazva, hogy lehessen később keresni belőle)\n",
        "\n",
        "Az adatokat ChromeVectorStoreban tároljuk."
      ],
      "metadata": {
        "id": "mRAx3193dQqm"
      }
    },
    {
      "cell_type": "code",
      "source": [
        "from llama_index.core import Document\n",
        "from llama_index.core import VectorStoreIndex\n",
        "\n",
        "\n",
        "documents = [\n",
        "    Document(text=f\"{row['title']}\\n{row['text']}\", id = f\"doc_id_{i}\")\n",
        "    for i, row in enumerate(dataset[\"train\"])\n",
        "]"
      ],
      "metadata": {
        "id": "TwSg4J2DJKYc"
      },
      "execution_count": 7,
      "outputs": []
    },
    {
      "cell_type": "code",
      "source": [
        "#Gyorsabb futás érdekében csak az adatok részét használjuk\n",
        "documents = documents[:10000]"
      ],
      "metadata": {
        "id": "DM1V1_0UFfdM"
      },
      "execution_count": 8,
      "outputs": []
    },
    {
      "cell_type": "code",
      "source": [
        "client = chromadb.PersistentClient(path=\"./test\")\n",
        "collection = client.get_or_create_collection(name=\"firstcollection5\")"
      ],
      "metadata": {
        "id": "MbVtkuAJpg-D"
      },
      "execution_count": 9,
      "outputs": []
    },
    {
      "cell_type": "code",
      "source": [
        "# Set up ChromaVectorStore and load in data\n",
        "vector_store = ChromaVectorStore(chroma_collection=collection)\n",
        "storage_context = StorageContext.from_defaults(vector_store=vector_store)"
      ],
      "metadata": {
        "id": "X6PByCy9p1A9"
      },
      "execution_count": 10,
      "outputs": []
    },
    {
      "cell_type": "code",
      "source": [
        "# Create the VectorStoreIndex from the documents\n",
        "index = VectorStoreIndex.from_documents(\n",
        "    documents, show_progress=True,  verbose = True, storage_context =storage_context)"
      ],
      "metadata": {
        "id": "1jWKC7UEJrkt"
      },
      "execution_count": null,
      "outputs": []
    },
    {
      "cell_type": "markdown",
      "source": [
        "#Eredmény"
      ],
      "metadata": {
        "id": "5g8TXaNFd7cJ"
      }
    },
    {
      "cell_type": "markdown",
      "source": [
        "Itt látszani fog, hogyan használja a RAG-t. Felrakjuk a kérdést, ez alapján a kérdéshez közel álló indexeket előveszi és berakja a contextbe, ami alapján válaszol az LLM."
      ],
      "metadata": {
        "id": "lBpo9TvOeHi5"
      }
    },
    {
      "cell_type": "code",
      "source": [
        "query=\"What is the similarity between December and April?\"\n",
        "\n",
        "query_engine =index.as_query_engine(similarity_top_k=5)\n",
        "\n",
        "\n",
        "import time\n",
        "\n",
        "start_time = time.time()\n",
        "\n",
        "response = query_engine.query(query)\n",
        "\n",
        "end_time = time.time()\n",
        "print(f\"Elapsed time: {end_time - start_time:.2f} seconds\")\n",
        "pprint_response(response)"
      ],
      "metadata": {
        "id": "uoMlJtvlF5nd",
        "colab": {
          "base_uri": "https://localhost:8080/"
        },
        "outputId": "2f119c5a-23f0-456c-a40c-67d90a059619"
      },
      "execution_count": 31,
      "outputs": [
        {
          "output_type": "stream",
          "name": "stderr",
          "text": [
            "Setting `pad_token_id` to `eos_token_id`:None for open-end generation.\n",
            "Setting `pad_token_id` to `eos_token_id`:None for open-end generation.\n"
          ]
        },
        {
          "output_type": "stream",
          "name": "stdout",
          "text": [
            "Elapsed time: 44.22 seconds\n",
            "Final Response: While December and April may seem like very different\n",
            "months due to the varying weather and holiday traditions, there is\n",
            "actually a similarity between the two in terms of their starting days\n",
            "of the week. In common years, both December and April begin on the\n",
            "same day of the week as September and October of the previous year,\n",
            "respectively. This means that if September and October fell on a\n",
            "Tuesday in the previous year, both December and April will also fall\n",
            "on a Tuesday in their respective years. In leap years, however, the\n",
            "starting days of the week for December and April differ slightly. In\n",
            "leap years, May of the previous year starts on the same day of the\n",
            "week as April, while January and October of the following year both\n",
            "start on the same day of the week as April. Overall, while the\n",
            "starting days of the week for December and April may not be a\n",
            "significant factor for most people, it is an interesting coincidence\n",
            "that connects these two seemingly disparate months.\n"
          ]
        }
      ]
    },
    {
      "cell_type": "markdown",
      "source": [
        "Itt látható a context amiből válaszol. Pár context fölösleges benne."
      ],
      "metadata": {
        "id": "afJhRiFrJJZc"
      }
    },
    {
      "cell_type": "code",
      "source": [
        "response"
      ],
      "metadata": {
        "colab": {
          "base_uri": "https://localhost:8080/"
        },
        "id": "_ZXNrzXEAOtl",
        "outputId": "3f45e407-8f11-45d8-f384-f929936205f2"
      },
      "execution_count": 32,
      "outputs": [
        {
          "output_type": "execute_result",
          "data": {
            "text/plain": [
              "Response(response='While December and April may seem like very different months due to the varying weather and holiday traditions, there is actually a similarity between the two in terms of their starting days of the week. In common years, both December and April begin on the same day of the week as September and October of the previous year, respectively. This means that if September and October fell on a Tuesday in the previous year, both December and April will also fall on a Tuesday in their respective years. In leap years, however, the starting days of the week for December and April differ slightly. In leap years, May of the previous year starts on the same day of the week as April, while January and October of the following year both start on the same day of the week as April. Overall, while the starting days of the week for December and April may not be a significant factor for most people, it is an interesting coincidence that connects these two seemingly disparate months.', source_nodes=[NodeWithScore(node=TextNode(id_='f72b30d1-95b5-4af8-b8bf-481c0e721074', embedding=None, metadata={}, excluded_embed_metadata_keys=[], excluded_llm_metadata_keys=[], relationships={<NodeRelationship.SOURCE: '1'>: RelatedNodeInfo(node_id='a706d2d2-eb02-4512-962c-79fe2181f267', node_type=<ObjectType.DOCUMENT: '4'>, metadata={}, hash='3d7e18e0531257c7affc659f2601884f851d58f7a1d4884e121021f2fee544b1'), <NodeRelationship.NEXT: '3'>: RelatedNodeInfo(node_id='dccf1bd8-c788-4604-810b-aa140308ebfe', node_type=<ObjectType.TEXT: '1'>, metadata={}, hash='a516f059a359cd6f469d172939deede77d7f56f5e778973a2ca9a1e2ef645c2d')}, text='April\\nApril is the fourth month of the year in the Julian and Gregorian calendars, and comes between March and May. It is one of four months to have 30 days.\\n\\nApril always begins on the same day of week as July, and additionally, January in leap years. April always ends on the same day of the week as December.\\n\\nApril\\'s flowers are the Sweet Pea and Daisy. Its birthstone is the diamond. The meaning of the diamond is innocence.\\n\\nThe Month \\n\\nApril comes between March and May, making it the fourth month of the year. It also comes first in the year out of the four months that have 30 days, as June, September and November are later in the year.\\n\\nApril begins on the same day of the week as July every year and on the same day of the week as January in leap years. April ends on the same day of the week as December every year, as each other\\'s last days are exactly 35 weeks (245 days) apart.\\n\\nIn common years, April starts on the same day of the week as October of the previous year, and in leap years, May of the previous year. In common years, April finishes on the same day of the week as July of the previous year, and in leap years, February and October of the previous year. In common years immediately after other common years, April starts on the same day of the week as January of the previous year, and in leap years and years immediately after that, April finishes on the same day of the week as January of the previous year.\\n\\nIn years immediately before common years, April starts on the same day of the week as September and December of the following year, and in years immediately before leap years, June of the following year. In years immediately before common years, April finishes on the same day of the week as September of the following year, and in years immediately before leap years, March and June of the following year.\\n\\nApril is a spring month in the Northern Hemisphere and an autumn/fall month in the Southern Hemisphere. In each hemisphere, it is the seasonal equivalent of October in the other.\\n\\nIt is unclear as to where April got its name. A common theory is that it comes from the Latin word \"aperire\", meaning \"to open\", referring to flowers opening in spring. Another theory is that the name could come from Aphrodite, the Greek goddess of love. It was originally the second month in the old Roman Calendar, before the start of the new year was put to January 1.\\n\\nQuite a few festivals are held in this month. In many Southeast Asian cultures, new year is celebrated in this month (including Songkran). In Western Christianity, Easter can be celebrated on a Sunday between March 22 and April 25. In Orthodox Christianity, it can fall between April 4 and May 8. At the end of the month, Central and Northern European cultures celebrate Walpurgis Night on April 30, marking the transition from winter into summer.\\n\\nApril in poetry \\nPoets use April to mean the end of winter. For example: April showers bring May flowers.', mimetype='text/plain', start_char_idx=0, end_char_idx=2955, text_template='{metadata_str}\\n\\n{content}', metadata_template='{key}: {value}', metadata_seperator='\\n'), score=0.6824007032452032), NodeWithScore(node=TextNode(id_='4bf3bc0b-aa5b-4d07-9711-2bec85d6cb32', embedding=None, metadata={}, excluded_embed_metadata_keys=[], excluded_llm_metadata_keys=[], relationships={<NodeRelationship.SOURCE: '1'>: RelatedNodeInfo(node_id='8e1eb27d-731d-4929-a8db-e0d28d3dc176', node_type=<ObjectType.DOCUMENT: '4'>, metadata={}, hash='123ce736a765ded1a48581ad7ccd8bcac1337ed6f81f505a31ce243b2833a87c'), <NodeRelationship.NEXT: '3'>: RelatedNodeInfo(node_id='619a9a74-9016-41d6-b818-4c869e916a06', node_type=<ObjectType.TEXT: '1'>, metadata={}, hash='ed65d1204aabebf228306973511f22574e4002cba35be37a6d6fbd28d7bc41e4')}, text='December\\nDecember (Dec.) is the twelfth and last month of the year in the Gregorian calendar, with 31 days, coming between November and January. With the name of the month coming from the Latin decem for \"ten\", it was the tenth month of the year before January and February were added to the Roman calendar.\\n\\nDecember always begins on the same day of the week as September, and ends on the same day of the week as April.\\n\\nDecember\\'s flower is the Narcissus. Its birthstone is the turquoise.\\n\\nSome of the holidays celebrated in December are Christmas, New Year\\'s Eve, Kwanzaa, and Hanukkah.\\n\\nThe Month \\n\\nDecember is the 12th and last month of every calendar year in the Gregorian calendar, and is one of seven months of the year to have 31 days. December 31 is followed by January 1 of the following year.\\n\\nDecember begins on the same day of the week as September every year, as each other\\'s first days are exactly 13 weeks (91 days) apart. December ends on the same day of the week as April every year, as each other\\'s last days are exactly 35 weeks (245 days) apart.\\n\\nIn common years, December starts on the same day of the week as April and July of the previous year, and in leap years, October of the previous year. In common years, December finishes on the same day of the week as July of the previous year, and in leap years, February and October of the previous year. In leap years and years immediately after that, December both starts and finishes on the same day of the week as January of the previous year.\\n\\nIn years immediately before common years, December starts on the same day of the week as June of the following year, and in years immediately before leap years, March and November of the following year. In years immediately before common years, December finishes on the same day of the week as September of the following year, and in years immediately before leap years, March and June of the following year.\\n\\nDecember is one of two months to have a solstice (the other is June, its seasonal equivalent in both hemispheres), and in this month the Tropic of Capricorn in the Southern Hemisphere is turned towards the Sun, meaning that December 21 or December 22 is the Northern Winter Solstice and the Southern Summer Solstice. This means that this date would have the least daylight of any day in the Northern Hemisphere, and the most in the Southern Hemisphere. There are 24 hours of darkness at the North Pole and 24 hours of daylight at the South Pole.\\n\\nIn mainly Christian countries, December is dominated by Christmas, which is celebrated on December 25 in most of those countries, though Eastern Orthodox Christians celebrate it on January 7. It marks the birth of Jesus Christ. Epiphany, January 6, is also important in relation to Christmas. Advent starts on the Sunday on, or closest to, November 30, and some countries have their own related celebration before the 25th. Sinterklaas is celebrated on December 5 in the Netherlands and Belgium, and St. Nicholas Day on December 6 is also celebrated in some countries. The Scandinavian countries, mainly Sweden, celebrate St. Lucia Day on December 13, while Iceland celebrates Thorlaksmessa on December 23. The week after Christmas is spent preparing for New Year.\\n\\nJudaism\\'s festival of light, Hanukkah, is also celebrated over eight days in this month.', mimetype='text/plain', start_char_idx=0, end_char_idx=3329, text_template='{metadata_str}\\n\\n{content}', metadata_template='{key}: {value}', metadata_seperator='\\n'), score=0.6161743052902486), NodeWithScore(node=TextNode(id_='d26c6432-8876-4468-b7fd-060127d80d9a', embedding=None, metadata={}, excluded_embed_metadata_keys=[], excluded_llm_metadata_keys=[], relationships={<NodeRelationship.SOURCE: '1'>: RelatedNodeInfo(node_id='ff0c9b1c-9d02-4bae-a5a8-900c887fd912', node_type=<ObjectType.DOCUMENT: '4'>, metadata={}, hash='fbfae76e92389dff3e73112a8827ea00c31142d30d0183d5a613a60535ac888b'), <NodeRelationship.NEXT: '3'>: RelatedNodeInfo(node_id='689cc1cd-9908-4659-957b-2321ac6aba74', node_type=<ObjectType.TEXT: '1'>, metadata={}, hash='1e19480696c66b9908488fc2ec5d0cb802a64d1d274fa585c47f035daf9da34e')}, text='May\\nMay is the fifth month of the year in the Julian and Gregorian calendars, coming between April and June. It has 31 days. The month of May might have been named for the Roman goddess Maia, or more likely the Roman goddess of fertility Bona Dea, whose festival was held in May.\\n\\nMay never begins or ends on the same day of the week as any other month.\\n\\nMay\\'s flower is the Lily of the Valley. Its birthstone is the emerald. The meaning of the emerald is success in love.\\n\\nThe Month \\n\\nMay comes between April and June and is the fifth month of the year in the Gregorian calendar. It is one of seven months to have 31 days. In the older Roman calendar, May was the third month of the year. It is a spring month in the Northern Hemisphere and an autumn month in the Southern Hemisphere. In each hemisphere, it is the seasonal equivalent of November in the other. May is likely to have been named after the Roman goddess Maia, though there is a theory that May might have its name from the Latin \"Maiores\", meaning \"Seniors\". The same theory suggests that June would then be named from \"Iuniores\", meaning \"Juniors\".\\n\\nNo other month of any year either begins or ends on the same day of the week as May: this month is the only one that has both of these properties.\\n\\nIn common years, May starts on the same day of the week as August of the previous year, and in leap years, March and November of the previous year. In common years, May finishes on the same day of the week as August and November of the previous year, and in leap years, March and June of the previous year. In leap years and years immediately after that, May starts on the same day of the week as February of the previous year. \\n\\nEvery year, May both starts and finishes on the same day of the week as January of the following year, as each other\\'s first and last days are exactly 35 weeks (245 days) apart. In years immediately before common years, May starts on the same day of the week as October of the following year, and in years immediately before leap years, April and July of the following year. In years immediately before common years, May finishes on the same day of the week as February and October of the following year, and in years immediately before leap years, July of the following year.\\n\\nIn the Northern Hemisphere, May is in late Spring, and May Day on May 1 and Walpurgis Night, during the night of April 30 to May 1, are symbolic of the transition from winter to summer. In the Southern Hemisphere, it is in autumn, and comes just before the Antarctic winter, when emperor penguins breed there.\\n\\nEvents in May \\n\\nSpecial devotions to the Virgin Mary take place in May.\\n\\nFixed Events \\n\\n May 1 - May Day in many countries.\\n May 1 - International Workers\\' Day\\n May 1 - Beltane (neo-Pagan culture)\\n May 1 - Lei Day (Hawaii)\\n May 1 - Constitution Day in Latvia and the Marshall Islands\\n May 2 - Flag Day (Poland)\\n May 2 - National Education Day (Indonesia)\\n May 2 - Teachers\\' Day in Iran and Bhutan\\n May 3 - Constitution Day (Poland, Lithuania)\\n May 3 - Constitution Memorial Day (Japan)\\n May 3 - World Press Freedom Day\\n May 4 - Unofficial Star Wars Day\\n May 4 - International Firefighters\\' Day\\n May 4 - Youth Day in China and Fiji\\n May 4 - Greenery Day (Japan)\\n May 4 - Remembrance of the Dead (Netherlands)\\n May 5 - Children\\'s Day in Japan and South Korea\\n May 5 - Cinco de Mayo (Mexico and United States)\\n May 5 - Liberation Day in the Netherlands and Denmark\\n May 5 - Coronation Day (Thailand)\\n May 5 - Europe Day\\n May 6 - International No Diet Day\\n May 6 - Teacher\\'s Day (Jamaica)\\n May 6 - Saint George\\'s Day (Eastern Orthodox countries)\\n May 7 - Radio Day in Russia and Bulgaria\\n May 8 - Victory in Europe Day, marking end of World War II in Europe\\n May 8 - International Red Cross and Red Crescent Day\\n May 8 - Parents\\' Day (South Korea)\\n May 8 - Harry S. Truman Day (Missouri)\\n May 8 - Miguel Hidalgo\\'s Birthday (Mexico)\\n May 9 - Victory and Peace Day (Armenia)\\n May 9 - Victory Day (former Soviet Union countries),', mimetype='text/plain', start_char_idx=0, end_char_idx=4005, text_template='{metadata_str}\\n\\n{content}', metadata_template='{key}: {value}', metadata_seperator='\\n'), score=0.5753571523244397), NodeWithScore(node=TextNode(id_='dccf1bd8-c788-4604-810b-aa140308ebfe', embedding=None, metadata={}, excluded_embed_metadata_keys=[], excluded_llm_metadata_keys=[], relationships={<NodeRelationship.SOURCE: '1'>: RelatedNodeInfo(node_id='a706d2d2-eb02-4512-962c-79fe2181f267', node_type=<ObjectType.DOCUMENT: '4'>, metadata={}, hash='3d7e18e0531257c7affc659f2601884f851d58f7a1d4884e121021f2fee544b1'), <NodeRelationship.PREVIOUS: '2'>: RelatedNodeInfo(node_id='f72b30d1-95b5-4af8-b8bf-481c0e721074', node_type=<ObjectType.TEXT: '1'>, metadata={}, hash='86e56b3ef1d86a562a2d3b01195653ad6320d6d0251f14b855733ea4813cc0d1'), <NodeRelationship.NEXT: '3'>: RelatedNodeInfo(node_id='daa097d3-b759-4d19-b2d4-1d989403cb8d', node_type=<ObjectType.TEXT: '1'>, metadata={}, hash='cb1b11e431cc5ed9ede5ba9ba9f6a6e60b6ed0631c8847ff0bb487c52d90fc88')}, text=\"April in poetry \\nPoets use April to mean the end of winter. For example: April showers bring May flowers.\\n\\nEvents in April\\n\\nFixed Events \\n\\n April 1 - April Fools' Day\\n April 1 - Islamic Republic Day (Iran)\\n April 2 - International Children's Book Day\\n April 2 - Thai Heritage and Conservation Day\\n April 2 - World Autism Awareness Day\\n April 2 - Malvinas Day (Argentina)\\n April 4 - Independence Day (Senegal)\\n April 4 - International Day for Landmine Awareness and Assistance\\n April 4 - Peace Day (Angola)\\n April 5 - End of Tax Year (United Kingdom)\\n April 6 - Tartan Day (Canada and United States)\\n April 6 - Chakri Day (Thailand)\\n April 7 - Day of Maternity and Beauty (Armenia)\\n April 7 - Genocide Memorial Day (Rwanda)\\n April 7 - World Health Day\\n April 7 - Women's Day (Mozambique)\\n April 8 - Buddha's Birthday (Buddhism)\\n April 9 - Martyrs' Day (Tunisia)\\n April 9 - Day of National Unity (Georgia)\\n April 9 - Day of the Finnish language\\n April 12 - Cosmonauts' Day (Russia), marking the day of Yuri Gagarin's space flight\\n April 13 - Songkan (Laos), local New Year celebration\\n April 13 - Cambodian New Year\\n April 13 - Thomas Jefferson's Birthday (United States)\\n April 14 - Southeast Asian New Year festivals, including Songkran\\n April 14 - Georgian language Day\\n April 14 - Youth Day (Angola)\\n April 14 - Ambedkar Tayanti (India)\\n April 14 - Pan-American Day\\n April 15 - Tax Day (United States)\\n April 15 - Kim Il-Sung's Birthday (North Korea)\\n April 15 - Father Damien Day (Hawaii)\\n April 15 - Jackie Robinson Day (Major League Baseball)\\n April 16 - Birthday of Queen Margrethe II of Denmark\\n April 16 - Emancipation Day (Washington, DC)\\n April 16 - World Voice Day\\n April 16 - Selena Day (Texas)\\n April 17 - National Day of Syria\\n April 17 - Flag Day (American Samoa)\\n April 17 - Women's Day (Gabon)\\n April 17 - World Hemophilia Day\\n April 18 - Independence Day (Zimbabwe)\\n April 18 - Invention Day (Japan)\\n April 18 - International Day of Monuments and Sites\\n April 19 - Bicycle Day\\n April 19 - Dutch-American Friendship Day\\n April 19 - Birthday of King Mswati III of Swaziland\\n April 19 - Patriots' Day (Massachusetts, Maine, Wisconsin)\\n April 20 - 4/20 in Cannabis Culture\\n April 21 - John Muir Day (California)\\n April 21 - San Jacinto Day (Texas)\\n April 21 - Kartini Day (Indonesia)\\n April 21 - National Tree Planting Day (Kenya)\\n April 21 - First Day of Ridran (Baha'i faith)\\n April 21 - Grounation Day (Rastafari movement)\\n April 22 - Earth Day\\n April 22 - Discovery Day (Brazil)\\n April 23 - Saint George's Day, celebrating the patron saint of several countries, regions and cities (including England and Catalonia)\\n April 23 - World Book Day\\n April 23 - National Sovereignty and Children's Day (Turkey)\\n April 24 - Democracy Day (Nepal)\\n April 24 - Genocide Day (Armenia)\\n April 24 - Republic Day (the Gambia)\\n April 25 - Australia and New Zealand celebrate ANZAC Day. ANZAC  means Australian and New Zealand Army Corps, and began in 1915.\", mimetype='text/plain', start_char_idx=2850, end_char_idx=5807, text_template='{metadata_str}\\n\\n{content}', metadata_template='{key}: {value}', metadata_seperator='\\n'), score=0.5746027686963576), NodeWithScore(node=TextNode(id_='10c7e8ca-5eb3-4c6f-b793-ca4749498f32', embedding=None, metadata={}, excluded_embed_metadata_keys=[], excluded_llm_metadata_keys=[], relationships={<NodeRelationship.SOURCE: '1'>: RelatedNodeInfo(node_id='a706d2d2-eb02-4512-962c-79fe2181f267', node_type=<ObjectType.DOCUMENT: '4'>, metadata={}, hash='3d7e18e0531257c7affc659f2601884f851d58f7a1d4884e121021f2fee544b1'), <NodeRelationship.PREVIOUS: '2'>: RelatedNodeInfo(node_id='2c8bcebf-b7f3-4ec1-9814-f7d35632bd86', node_type=<ObjectType.TEXT: '1'>, metadata={}, hash='742901cb4f352a00ffa3408054df9957dd70f770560e7f741e62af0201731e66')}, text=\"April 26, 1964 - Tanganyika and Zanzibar merge to form Tanzania.\\n April 26, 1986 - A reactor explosion occurs at the Chernobyl nuclear plant in present-day Ukraine, with radiation spreading around Europe and the world.\\n April 26/27, 1994 - South Africa holds its first free elections.\\n April 27, 1960 - Togo becomes independent from France.\\n April 27, 1961 - Sierra Leone becomes independent from the United Kingdom.\\n April 28, 1789 - Mutiny on the ship Bounty in the Pacific Ocean, lead by Fletcher Christian.\\n April 28, 1945 - Benito Mussolini is executed by Italian partisans.\\n April 28, 1947 - In Peru, Thor Heyerdahl starts his Kon-Tiki expedition aimed at proving his theory that the Polynesian settlers on the Pacific Ocean's islands came from South America.\\n April 29, 1991 - A cyclone in Bangladesh kills an estimated 138,000 people.\\n April 29, 2011 - The wedding of Prince William, Duke of Cambridge and Catherine, Duchess of Cambridge is broadcast worldwide.\\n April 30, 1789 - George Washington becomes the first President of the United States.\\n April 30, 1803 - The United States purchases (buys) the Louisiana territory from France.\\n April 30, 1945 - Adolf Hitler commits suicide on the same day that the Soviet Army raises the Red Flag on Berlin's Reichstag.\\n April 30, 1952 - The Diary of Anne Frank is published in English.\\n April 30, 1975 - The Vietnam War ends, as North Vietnamese forces take Saigon.\\n April 30, 1980 - Queen Juliana of the Netherlands abdicates the throne, and her daughter becomes Queen Beatrix of the Netherlands. Beatrix later also abdicates, on this day in 2013, in favor of her son, King Willem-Alexander of the Netherlands.\\n\\nTrivia \\n\\n In Western Christianity, there is a bigger likelihood of Easter falling in April than in March.\\n The months around April (March and May) both start with an 'M' in the English language, with an 'A' as the second letter.\\n In the English language, April is the first of three months in-a-row, along with May and June, that is also a female given name.\\n The astrological signs for April are Aries (March 21 to April 20) and Taurus (April 21 to May 20).\\n The sweet pea and daisy are the traditional birth flowers for April.\\n Birthstone for April is the Diamond.\\nApril 1 is the only day in April to start within the first quarter of the calendar year.\\n If the months of the year were arranged in alphabetical order in the English language, April would come first.\\n Six current European monarchs were born in April. They are King Philippe of Belgium (April 15), Queen Margrethe II of Denmark (April 16), Henri, Grand Duke of Luxembourg (April 16), Elizabeth II of the United Kingdom and Commonwealth realms (April 21), King Willem-Alexander of the Netherlands (April 27), and King Carl XVI Gustaf of Sweden (April 30).\\n\\nReferences\", mimetype='text/plain', start_char_idx=13172, end_char_idx=15972, text_template='{metadata_str}\\n\\n{content}', metadata_template='{key}: {value}', metadata_seperator='\\n'), score=0.5653792365899167)], metadata={'f72b30d1-95b5-4af8-b8bf-481c0e721074': {}, '4bf3bc0b-aa5b-4d07-9711-2bec85d6cb32': {}, 'd26c6432-8876-4468-b7fd-060127d80d9a': {}, 'dccf1bd8-c788-4604-810b-aa140308ebfe': {}, '10c7e8ca-5eb3-4c6f-b793-ca4749498f32': {}})"
            ]
          },
          "metadata": {},
          "execution_count": 32
        }
      ]
    },
    {
      "cell_type": "markdown",
      "source": [
        "Itt reranking segítségével leszűkitjük a contextet (ebben az esetben 1-re, amitől a példa jól látszik, de valós esetben nem kell ilyen kicsire csökkenteni.)"
      ],
      "metadata": {
        "id": "He264YTmJShx"
      }
    },
    {
      "cell_type": "code",
      "source": [
        "rerank = SentenceTransformerRerank( model=\"cross-encoder/ms-marco-MiniLM-L-2-v2\", top_n=1)"
      ],
      "metadata": {
        "id": "-0PgmJb57CHu"
      },
      "execution_count": 33,
      "outputs": []
    },
    {
      "cell_type": "code",
      "source": [
        "query_engine = index.as_query_engine(similarity_top_k=5, node_postprocessors=[rerank] )\n",
        "\n",
        "start_time = time.time()\n",
        "\n",
        "response = query_engine.query(query)\n",
        "\n",
        "end_time = time.time()\n",
        "print(f\"Elapsed time: {end_time - start_time:.2f} seconds\")\n",
        "\n",
        "response\n",
        "\n"
      ],
      "metadata": {
        "colab": {
          "base_uri": "https://localhost:8080/"
        },
        "id": "Yb2gX8VR7bF7",
        "outputId": "fc81a13a-0f38-461c-cf0d-46b4a0a68f0a"
      },
      "execution_count": 34,
      "outputs": [
        {
          "output_type": "stream",
          "name": "stderr",
          "text": [
            "Setting `pad_token_id` to `eos_token_id`:None for open-end generation.\n"
          ]
        },
        {
          "output_type": "stream",
          "name": "stdout",
          "text": [
            "Elapsed time: 4.85 seconds\n"
          ]
        },
        {
          "output_type": "execute_result",
          "data": {
            "text/plain": [
              "Response(response=\"December and April both end on the same day of the week. This is because each month's last day is exactly 35 weeks (245 days) apart.\", source_nodes=[NodeWithScore(node=TextNode(id_='4bf3bc0b-aa5b-4d07-9711-2bec85d6cb32', embedding=None, metadata={}, excluded_embed_metadata_keys=[], excluded_llm_metadata_keys=[], relationships={<NodeRelationship.SOURCE: '1'>: RelatedNodeInfo(node_id='8e1eb27d-731d-4929-a8db-e0d28d3dc176', node_type=<ObjectType.DOCUMENT: '4'>, metadata={}, hash='123ce736a765ded1a48581ad7ccd8bcac1337ed6f81f505a31ce243b2833a87c'), <NodeRelationship.NEXT: '3'>: RelatedNodeInfo(node_id='619a9a74-9016-41d6-b818-4c869e916a06', node_type=<ObjectType.TEXT: '1'>, metadata={}, hash='ed65d1204aabebf228306973511f22574e4002cba35be37a6d6fbd28d7bc41e4')}, text='December\\nDecember (Dec.) is the twelfth and last month of the year in the Gregorian calendar, with 31 days, coming between November and January. With the name of the month coming from the Latin decem for \"ten\", it was the tenth month of the year before January and February were added to the Roman calendar.\\n\\nDecember always begins on the same day of the week as September, and ends on the same day of the week as April.\\n\\nDecember\\'s flower is the Narcissus. Its birthstone is the turquoise.\\n\\nSome of the holidays celebrated in December are Christmas, New Year\\'s Eve, Kwanzaa, and Hanukkah.\\n\\nThe Month \\n\\nDecember is the 12th and last month of every calendar year in the Gregorian calendar, and is one of seven months of the year to have 31 days. December 31 is followed by January 1 of the following year.\\n\\nDecember begins on the same day of the week as September every year, as each other\\'s first days are exactly 13 weeks (91 days) apart. December ends on the same day of the week as April every year, as each other\\'s last days are exactly 35 weeks (245 days) apart.\\n\\nIn common years, December starts on the same day of the week as April and July of the previous year, and in leap years, October of the previous year. In common years, December finishes on the same day of the week as July of the previous year, and in leap years, February and October of the previous year. In leap years and years immediately after that, December both starts and finishes on the same day of the week as January of the previous year.\\n\\nIn years immediately before common years, December starts on the same day of the week as June of the following year, and in years immediately before leap years, March and November of the following year. In years immediately before common years, December finishes on the same day of the week as September of the following year, and in years immediately before leap years, March and June of the following year.\\n\\nDecember is one of two months to have a solstice (the other is June, its seasonal equivalent in both hemispheres), and in this month the Tropic of Capricorn in the Southern Hemisphere is turned towards the Sun, meaning that December 21 or December 22 is the Northern Winter Solstice and the Southern Summer Solstice. This means that this date would have the least daylight of any day in the Northern Hemisphere, and the most in the Southern Hemisphere. There are 24 hours of darkness at the North Pole and 24 hours of daylight at the South Pole.\\n\\nIn mainly Christian countries, December is dominated by Christmas, which is celebrated on December 25 in most of those countries, though Eastern Orthodox Christians celebrate it on January 7. It marks the birth of Jesus Christ. Epiphany, January 6, is also important in relation to Christmas. Advent starts on the Sunday on, or closest to, November 30, and some countries have their own related celebration before the 25th. Sinterklaas is celebrated on December 5 in the Netherlands and Belgium, and St. Nicholas Day on December 6 is also celebrated in some countries. The Scandinavian countries, mainly Sweden, celebrate St. Lucia Day on December 13, while Iceland celebrates Thorlaksmessa on December 23. The week after Christmas is spent preparing for New Year.\\n\\nJudaism\\'s festival of light, Hanukkah, is also celebrated over eight days in this month.', mimetype='text/plain', start_char_idx=0, end_char_idx=3329, text_template='{metadata_str}\\n\\n{content}', metadata_template='{key}: {value}', metadata_seperator='\\n'), score=2.3521423)], metadata={'4bf3bc0b-aa5b-4d07-9711-2bec85d6cb32': {}})"
            ]
          },
          "metadata": {},
          "execution_count": 34
        }
      ]
    },
    {
      "cell_type": "markdown",
      "source": [
        "Itt létrehozzuk a chatbotot, adunk promptot neki, hogy milyen magatartást/választ várunk tőle."
      ],
      "metadata": {
        "id": "srqzpPJeeg6B"
      }
    },
    {
      "cell_type": "code",
      "source": [
        "from llama_index.core.memory import ChatMemoryBuffer\n",
        "memory = ChatMemoryBuffer.from_defaults(token_limit=1500)\n",
        "chat_engine = index.as_chat_engine(chat_mode=\"context\", verbose=True, memory=memory,\n",
        "    system_prompt=(\n",
        "        \"You are a chatbot, you have to answer the questions asked. Only use the context provided, dont use any previously known information, do not hallucinate.\"\n",
        "    ),\n",
        "    node_postprocessors=[rerank])"
      ],
      "metadata": {
        "id": "krdfz0ckQ0qF"
      },
      "execution_count": 29,
      "outputs": []
    },
    {
      "cell_type": "markdown",
      "source": [
        "#Chatbot\n",
        "És itt lehet beszélgetni a chatbottal, ami emlékezik a beszélgetés egy részére, és a \"bye\"-al ki lehet lépni, ami után elfelejti az eddigi beszégetést."
      ],
      "metadata": {
        "id": "inSTAJDKfLFE"
      }
    },
    {
      "cell_type": "code",
      "source": [
        "print(\"If you want to leave the conversation, say bye \\n______________________________\\n\")\n",
        "while True:\n",
        "  user_input = input(\"Enter your query: \")\n",
        "  if user_input.lower() == \"bye\":\n",
        "    break\n",
        "  response = chat_engine.chat(user_input)\n",
        "  pprint_response(response)\n",
        "  print(\"\\n_____________________________\\n\")\n",
        "chat_engine.reset()"
      ],
      "metadata": {
        "colab": {
          "base_uri": "https://localhost:8080/"
        },
        "id": "UXZ6_MKXPEn0",
        "outputId": "2fef8110-9eb9-4b32-ed8f-f072740dbea4"
      },
      "execution_count": 37,
      "outputs": [
        {
          "name": "stdout",
          "output_type": "stream",
          "text": [
            "If you want to leave the conversation, say bye \n",
            "______________________________\n",
            "\n",
            "Enter your query: What is the similarity between December and April?\n"
          ]
        },
        {
          "output_type": "stream",
          "name": "stderr",
          "text": [
            "Setting `pad_token_id` to `eos_token_id`:None for open-end generation.\n"
          ]
        },
        {
          "name": "stdout",
          "output_type": "stream",
          "text": [
            "Final Response: According to the context provided, December and April\n",
            "both end on the same day of the week. This is because December has\n",
            "exactly 35 weeks (245 days) between its last day and April's first\n",
            "day, which is enough time for both months to align on the same\n",
            "weekday. This similarity holds true for every year, regardless of leap\n",
            "years.\n",
            "\n",
            "_____________________________\n",
            "\n",
            "Enter your query: and what of February?\n"
          ]
        },
        {
          "output_type": "stream",
          "name": "stderr",
          "text": [
            "Setting `pad_token_id` to `eos_token_id`:None for open-end generation.\n"
          ]
        },
        {
          "name": "stdout",
          "output_type": "stream",
          "text": [
            "Final Response: According to the context provided, February begins on\n",
            "the same day of the week as March and November in common years, and on\n",
            "the same day of the week as August in leap years. Additionally,\n",
            "February always ends on the same day of the week as January in common\n",
            "years. In a leap year, February is the only month to begin and end on\n",
            "the same day of the week. So, while February does not align with\n",
            "December or April in terms of weekday endings, it does have\n",
            "similarities in terms of weekday startings.\n",
            "\n",
            "_____________________________\n",
            "\n",
            "Enter your query: bye\n"
          ]
        }
      ]
    },
    {
      "cell_type": "markdown",
      "source": [
        "#Válaszok értékelése:\n",
        "1.: A felhasználóktól meg lehet kérdezni hogy elégedettek voltak-e a programmal. Figyelni kell rá, hogy a felhasználók gyakrabban jeleznek vissza valamiről, ami rosszul működik, mintha valami jól.\n",
        "\n",
        "2.: Lehet egy verifikációs adathalmazt tartani elvárt válaszokkal, és ezt össze lehet hasonlítani a kapott válasszal. (pl: ROUGE,  Recall-Oriented Understudy for Gisting Evaluation, vagy embedding alapján.)\n",
        "\n",
        "3.: Pár, az üzlethez értő szakember leteszteli olyan kérdésekkel, amik szerintük gyakran előfordulnak."
      ],
      "metadata": {
        "id": "8IccROLls9nE"
      }
    },
    {
      "cell_type": "code",
      "source": [
        "from rouge_score import rouge_scorer\n",
        "\n",
        "scorer = rouge_scorer.RougeScorer(['rouge1', 'rougeL'], use_stemmer=True)\n",
        "scores = scorer.score('The quick brown fox jumps over the lazy dog',\n",
        "                      'The quick brown dog jumps on the log.')\n",
        "scores"
      ],
      "metadata": {
        "colab": {
          "base_uri": "https://localhost:8080/"
        },
        "id": "cJnE-RCIO7b4",
        "outputId": "388d5d06-fc89-4566-820a-169d0af770d6"
      },
      "execution_count": 35,
      "outputs": [
        {
          "output_type": "execute_result",
          "data": {
            "text/plain": [
              "{'rouge1': Score(precision=0.75, recall=0.6666666666666666, fmeasure=0.7058823529411765),\n",
              " 'rougeL': Score(precision=0.625, recall=0.5555555555555556, fmeasure=0.5882352941176471)}"
            ]
          },
          "metadata": {},
          "execution_count": 35
        }
      ]
    },
    {
      "cell_type": "markdown",
      "source": [
        "#Elérhetővé tétel\n",
        "Ez a program egy API ként futna belső szerveren,hogy könnyen lehessen kezelni, hogy ki és mennyi ideig férhet hozzá. Az API elérhető lehet webes felületről/alkalmazásba beépítve/mobilról is akár, (sőt kiegészíthető hangfelismerés és felolvasással is, üzleti igény függő). Mivel a chatbot használata költséges, ezért csak visszaigazolt felhasználóval szabad használni, és előfizetéstől függően változik a limit és priority ha sokan használják."
      ],
      "metadata": {
        "id": "6ifkBRMPQVvl"
      }
    },
    {
      "cell_type": "markdown",
      "source": [
        "#Továbbfejlesztés\n",
        "A használt modelleket/database-t letölteni és onnan betölteni.\n",
        "\n",
        "A kód osztályokba és függvényekbe szervezése. Könnyebb bemutatni a működését ahogyan most van egy notebookból, de később össze kell szervezni könnyebb felhasználhatóság/fejlesztés/módosítás miatt.\n"
      ],
      "metadata": {
        "id": "Fie_4sOTUDVM"
      }
    },
    {
      "cell_type": "code",
      "source": [
        "import pandas as pd\n",
        "from datetime import datetime\n",
        "\n",
        "\n",
        "data = {\n",
        "    \"Question\": [\"What is the similarity between December and April?\",\"and what of February?\"],\n",
        "    \"Response\": [\"\"\"According to the context provided, December and April\n",
        "both end on the same day of the week. This is because December has\n",
        "exactly 35 weeks (245 days) between its last day and April's first\n",
        "day, which is enough time for both months to align on the same\n",
        "weekday. This similarity holds true for every year, regardless of leap\n",
        "years.\"\"\",\n",
        "                 \"\"\"According to the context provided, February begins on\n",
        "the same day of the week as March and November in common years, and on\n",
        "the same day of the week as August in leap years. Additionally,\n",
        "February always ends on the same day of the week as January in common\n",
        "years. In a leap year, February is the only month to begin and end on\n",
        "the same day of the week. So, while February does not align with\n",
        "December or April in terms of weekday endings, it does have\n",
        "similarities in terms of weekday startings.\n",
        "\"\"\"],\n",
        "}\n",
        "\n",
        "dashboard = pd.DataFrame(data)\n",
        "\n",
        "\n",
        "dashboard.head()\n"
      ],
      "metadata": {
        "colab": {
          "base_uri": "https://localhost:8080/",
          "height": 132
        },
        "id": "vvYAMJvyYlgY",
        "outputId": "29a231f7-9178-461e-a05e-a33613cf057f"
      },
      "execution_count": 38,
      "outputs": [
        {
          "output_type": "execute_result",
          "data": {
            "text/plain": [
              "                                            Question  \\\n",
              "0  What is the similarity between December and Ap...   \n",
              "1                              and what of February?   \n",
              "\n",
              "                                            Response  \n",
              "0  According to the context provided, December an...  \n",
              "1  According to the context provided, February be...  "
            ],
            "text/html": [
              "\n",
              "  <div id=\"df-3f62acee-d830-429e-8128-e2cc41a3d8b9\" class=\"colab-df-container\">\n",
              "    <div>\n",
              "<style scoped>\n",
              "    .dataframe tbody tr th:only-of-type {\n",
              "        vertical-align: middle;\n",
              "    }\n",
              "\n",
              "    .dataframe tbody tr th {\n",
              "        vertical-align: top;\n",
              "    }\n",
              "\n",
              "    .dataframe thead th {\n",
              "        text-align: right;\n",
              "    }\n",
              "</style>\n",
              "<table border=\"1\" class=\"dataframe\">\n",
              "  <thead>\n",
              "    <tr style=\"text-align: right;\">\n",
              "      <th></th>\n",
              "      <th>Question</th>\n",
              "      <th>Response</th>\n",
              "    </tr>\n",
              "  </thead>\n",
              "  <tbody>\n",
              "    <tr>\n",
              "      <th>0</th>\n",
              "      <td>What is the similarity between December and Ap...</td>\n",
              "      <td>According to the context provided, December an...</td>\n",
              "    </tr>\n",
              "    <tr>\n",
              "      <th>1</th>\n",
              "      <td>and what of February?</td>\n",
              "      <td>According to the context provided, February be...</td>\n",
              "    </tr>\n",
              "  </tbody>\n",
              "</table>\n",
              "</div>\n",
              "    <div class=\"colab-df-buttons\">\n",
              "\n",
              "  <div class=\"colab-df-container\">\n",
              "    <button class=\"colab-df-convert\" onclick=\"convertToInteractive('df-3f62acee-d830-429e-8128-e2cc41a3d8b9')\"\n",
              "            title=\"Convert this dataframe to an interactive table.\"\n",
              "            style=\"display:none;\">\n",
              "\n",
              "  <svg xmlns=\"http://www.w3.org/2000/svg\" height=\"24px\" viewBox=\"0 -960 960 960\">\n",
              "    <path d=\"M120-120v-720h720v720H120Zm60-500h600v-160H180v160Zm220 220h160v-160H400v160Zm0 220h160v-160H400v160ZM180-400h160v-160H180v160Zm440 0h160v-160H620v160ZM180-180h160v-160H180v160Zm440 0h160v-160H620v160Z\"/>\n",
              "  </svg>\n",
              "    </button>\n",
              "\n",
              "  <style>\n",
              "    .colab-df-container {\n",
              "      display:flex;\n",
              "      gap: 12px;\n",
              "    }\n",
              "\n",
              "    .colab-df-convert {\n",
              "      background-color: #E8F0FE;\n",
              "      border: none;\n",
              "      border-radius: 50%;\n",
              "      cursor: pointer;\n",
              "      display: none;\n",
              "      fill: #1967D2;\n",
              "      height: 32px;\n",
              "      padding: 0 0 0 0;\n",
              "      width: 32px;\n",
              "    }\n",
              "\n",
              "    .colab-df-convert:hover {\n",
              "      background-color: #E2EBFA;\n",
              "      box-shadow: 0px 1px 2px rgba(60, 64, 67, 0.3), 0px 1px 3px 1px rgba(60, 64, 67, 0.15);\n",
              "      fill: #174EA6;\n",
              "    }\n",
              "\n",
              "    .colab-df-buttons div {\n",
              "      margin-bottom: 4px;\n",
              "    }\n",
              "\n",
              "    [theme=dark] .colab-df-convert {\n",
              "      background-color: #3B4455;\n",
              "      fill: #D2E3FC;\n",
              "    }\n",
              "\n",
              "    [theme=dark] .colab-df-convert:hover {\n",
              "      background-color: #434B5C;\n",
              "      box-shadow: 0px 1px 3px 1px rgba(0, 0, 0, 0.15);\n",
              "      filter: drop-shadow(0px 1px 2px rgba(0, 0, 0, 0.3));\n",
              "      fill: #FFFFFF;\n",
              "    }\n",
              "  </style>\n",
              "\n",
              "    <script>\n",
              "      const buttonEl =\n",
              "        document.querySelector('#df-3f62acee-d830-429e-8128-e2cc41a3d8b9 button.colab-df-convert');\n",
              "      buttonEl.style.display =\n",
              "        google.colab.kernel.accessAllowed ? 'block' : 'none';\n",
              "\n",
              "      async function convertToInteractive(key) {\n",
              "        const element = document.querySelector('#df-3f62acee-d830-429e-8128-e2cc41a3d8b9');\n",
              "        const dataTable =\n",
              "          await google.colab.kernel.invokeFunction('convertToInteractive',\n",
              "                                                    [key], {});\n",
              "        if (!dataTable) return;\n",
              "\n",
              "        const docLinkHtml = 'Like what you see? Visit the ' +\n",
              "          '<a target=\"_blank\" href=https://colab.research.google.com/notebooks/data_table.ipynb>data table notebook</a>'\n",
              "          + ' to learn more about interactive tables.';\n",
              "        element.innerHTML = '';\n",
              "        dataTable['output_type'] = 'display_data';\n",
              "        await google.colab.output.renderOutput(dataTable, element);\n",
              "        const docLink = document.createElement('div');\n",
              "        docLink.innerHTML = docLinkHtml;\n",
              "        element.appendChild(docLink);\n",
              "      }\n",
              "    </script>\n",
              "  </div>\n",
              "\n",
              "\n",
              "<div id=\"df-5d2faabb-1424-4db6-ba27-ba2a81943057\">\n",
              "  <button class=\"colab-df-quickchart\" onclick=\"quickchart('df-5d2faabb-1424-4db6-ba27-ba2a81943057')\"\n",
              "            title=\"Suggest charts\"\n",
              "            style=\"display:none;\">\n",
              "\n",
              "<svg xmlns=\"http://www.w3.org/2000/svg\" height=\"24px\"viewBox=\"0 0 24 24\"\n",
              "     width=\"24px\">\n",
              "    <g>\n",
              "        <path d=\"M19 3H5c-1.1 0-2 .9-2 2v14c0 1.1.9 2 2 2h14c1.1 0 2-.9 2-2V5c0-1.1-.9-2-2-2zM9 17H7v-7h2v7zm4 0h-2V7h2v10zm4 0h-2v-4h2v4z\"/>\n",
              "    </g>\n",
              "</svg>\n",
              "  </button>\n",
              "\n",
              "<style>\n",
              "  .colab-df-quickchart {\n",
              "      --bg-color: #E8F0FE;\n",
              "      --fill-color: #1967D2;\n",
              "      --hover-bg-color: #E2EBFA;\n",
              "      --hover-fill-color: #174EA6;\n",
              "      --disabled-fill-color: #AAA;\n",
              "      --disabled-bg-color: #DDD;\n",
              "  }\n",
              "\n",
              "  [theme=dark] .colab-df-quickchart {\n",
              "      --bg-color: #3B4455;\n",
              "      --fill-color: #D2E3FC;\n",
              "      --hover-bg-color: #434B5C;\n",
              "      --hover-fill-color: #FFFFFF;\n",
              "      --disabled-bg-color: #3B4455;\n",
              "      --disabled-fill-color: #666;\n",
              "  }\n",
              "\n",
              "  .colab-df-quickchart {\n",
              "    background-color: var(--bg-color);\n",
              "    border: none;\n",
              "    border-radius: 50%;\n",
              "    cursor: pointer;\n",
              "    display: none;\n",
              "    fill: var(--fill-color);\n",
              "    height: 32px;\n",
              "    padding: 0;\n",
              "    width: 32px;\n",
              "  }\n",
              "\n",
              "  .colab-df-quickchart:hover {\n",
              "    background-color: var(--hover-bg-color);\n",
              "    box-shadow: 0 1px 2px rgba(60, 64, 67, 0.3), 0 1px 3px 1px rgba(60, 64, 67, 0.15);\n",
              "    fill: var(--button-hover-fill-color);\n",
              "  }\n",
              "\n",
              "  .colab-df-quickchart-complete:disabled,\n",
              "  .colab-df-quickchart-complete:disabled:hover {\n",
              "    background-color: var(--disabled-bg-color);\n",
              "    fill: var(--disabled-fill-color);\n",
              "    box-shadow: none;\n",
              "  }\n",
              "\n",
              "  .colab-df-spinner {\n",
              "    border: 2px solid var(--fill-color);\n",
              "    border-color: transparent;\n",
              "    border-bottom-color: var(--fill-color);\n",
              "    animation:\n",
              "      spin 1s steps(1) infinite;\n",
              "  }\n",
              "\n",
              "  @keyframes spin {\n",
              "    0% {\n",
              "      border-color: transparent;\n",
              "      border-bottom-color: var(--fill-color);\n",
              "      border-left-color: var(--fill-color);\n",
              "    }\n",
              "    20% {\n",
              "      border-color: transparent;\n",
              "      border-left-color: var(--fill-color);\n",
              "      border-top-color: var(--fill-color);\n",
              "    }\n",
              "    30% {\n",
              "      border-color: transparent;\n",
              "      border-left-color: var(--fill-color);\n",
              "      border-top-color: var(--fill-color);\n",
              "      border-right-color: var(--fill-color);\n",
              "    }\n",
              "    40% {\n",
              "      border-color: transparent;\n",
              "      border-right-color: var(--fill-color);\n",
              "      border-top-color: var(--fill-color);\n",
              "    }\n",
              "    60% {\n",
              "      border-color: transparent;\n",
              "      border-right-color: var(--fill-color);\n",
              "    }\n",
              "    80% {\n",
              "      border-color: transparent;\n",
              "      border-right-color: var(--fill-color);\n",
              "      border-bottom-color: var(--fill-color);\n",
              "    }\n",
              "    90% {\n",
              "      border-color: transparent;\n",
              "      border-bottom-color: var(--fill-color);\n",
              "    }\n",
              "  }\n",
              "</style>\n",
              "\n",
              "  <script>\n",
              "    async function quickchart(key) {\n",
              "      const quickchartButtonEl =\n",
              "        document.querySelector('#' + key + ' button');\n",
              "      quickchartButtonEl.disabled = true;  // To prevent multiple clicks.\n",
              "      quickchartButtonEl.classList.add('colab-df-spinner');\n",
              "      try {\n",
              "        const charts = await google.colab.kernel.invokeFunction(\n",
              "            'suggestCharts', [key], {});\n",
              "      } catch (error) {\n",
              "        console.error('Error during call to suggestCharts:', error);\n",
              "      }\n",
              "      quickchartButtonEl.classList.remove('colab-df-spinner');\n",
              "      quickchartButtonEl.classList.add('colab-df-quickchart-complete');\n",
              "    }\n",
              "    (() => {\n",
              "      let quickchartButtonEl =\n",
              "        document.querySelector('#df-5d2faabb-1424-4db6-ba27-ba2a81943057 button');\n",
              "      quickchartButtonEl.style.display =\n",
              "        google.colab.kernel.accessAllowed ? 'block' : 'none';\n",
              "    })();\n",
              "  </script>\n",
              "</div>\n",
              "\n",
              "    </div>\n",
              "  </div>\n"
            ],
            "application/vnd.google.colaboratory.intrinsic+json": {
              "type": "dataframe",
              "variable_name": "dashboard",
              "summary": "{\n  \"name\": \"dashboard\",\n  \"rows\": 2,\n  \"fields\": [\n    {\n      \"column\": \"Question\",\n      \"properties\": {\n        \"dtype\": \"string\",\n        \"num_unique_values\": 2,\n        \"samples\": [\n          \"and what of February?\",\n          \"What is the similarity between December and April?\"\n        ],\n        \"semantic_type\": \"\",\n        \"description\": \"\"\n      }\n    },\n    {\n      \"column\": \"Response\",\n      \"properties\": {\n        \"dtype\": \"string\",\n        \"num_unique_values\": 2,\n        \"samples\": [\n          \"According to the context provided, February begins on\\nthe same day of the week as March and November in common years, and on\\nthe same day of the week as August in leap years. Additionally,\\nFebruary always ends on the same day of the week as January in common\\nyears. In a leap year, February is the only month to begin and end on\\nthe same day of the week. So, while February does not align with\\nDecember or April in terms of weekday endings, it does have\\nsimilarities in terms of weekday startings.\\n\",\n          \"According to the context provided, December and April\\nboth end on the same day of the week. This is because December has\\nexactly 35 weeks (245 days) between its last day and April's first\\nday, which is enough time for both months to align on the same\\nweekday. This similarity holds true for every year, regardless of leap\\nyears.\"\n        ],\n        \"semantic_type\": \"\",\n        \"description\": \"\"\n      }\n    }\n  ]\n}"
            }
          },
          "metadata": {},
          "execution_count": 38
        }
      ]
    },
    {
      "cell_type": "code",
      "source": [
        "dashboard.to_csv(\"dashboard_input_table.csv\", index=False)"
      ],
      "metadata": {
        "id": "jHKSJhnPY2aj"
      },
      "execution_count": 39,
      "outputs": []
    }
  ]
}